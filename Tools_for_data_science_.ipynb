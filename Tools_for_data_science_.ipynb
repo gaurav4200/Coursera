{
  "nbformat": 4,
  "nbformat_minor": 0,
  "metadata": {
    "colab": {
      "provenance": []
    },
    "kernelspec": {
      "name": "python3",
      "display_name": "Python 3"
    },
    "language_info": {
      "name": "python"
    }
  },
  "cells": [
    {
      "cell_type": "markdown",
      "source": [
        "Notebook"
      ],
      "metadata": {
        "id": "DTTMHj-dk5S3"
      }
    },
    {
      "cell_type": "markdown",
      "source": [
        "This is markdown cell for introduction.\n",
        "So we are going to look some exercises from tools for data science course"
      ],
      "metadata": {
        "id": "WVaih3CbllAj"
      }
    },
    {
      "cell_type": "code",
      "source": [],
      "metadata": {
        "id": "NTIBc1DWlD2Z"
      },
      "execution_count": null,
      "outputs": []
    },
    {
      "cell_type": "markdown",
      "source": [
        "List of data science languages are\n",
        "1. Python\n",
        "2. R\n",
        "3. SQL\n",
        "4. JavaScript\n",
        "5. MATLAB\n",
        "6. Scala\n",
        "7. Julia\n",
        "8. SAS\n"
      ],
      "metadata": {
        "id": "7clmLZIAmV5N"
      }
    },
    {
      "cell_type": "markdown",
      "source": [
        "Various Data science libraries are\n",
        "\n",
        "NumPy\n",
        "\n",
        "Keras\n",
        "\n",
        "Pandas\n",
        "\n",
        "PyTorch\n",
        "\n",
        "SciPy\n",
        "\n",
        "Scikit-Learn\n",
        "\n",
        "TensorFlow\n",
        "\n",
        "Matplotlib\n",
        "\n",
        "Seaborn\n",
        "\n",
        "Pillow\n",
        "\n",
        "Requests\n",
        "\n",
        "Selenium\n",
        "\n",
        "ScraPy\n",
        "\n",
        "PyTest\n",
        "\n",
        "PyUnit"
      ],
      "metadata": {
        "id": "FIiwzglbn52o"
      }
    },
    {
      "cell_type": "markdown",
      "source": [
        "Some Data science tools are\n",
        "1. Jupyter\n",
        "2. Apache spark\n",
        "3. Microsoft Power BI\n",
        "4. Tableau\n",
        "5. Python\n",
        "6. RStudio\n",
        "7. SPSS\n",
        "8. MySQL\n",
        "\n"
      ],
      "metadata": {
        "id": "9ZDPw42qo0tB"
      }
    },
    {
      "cell_type": "markdown",
      "source": [
        "We will see introduction of arithmetic expression example of addition and multiplication\n",
        "\n",
        "Let a=10 and b=2\n",
        "\n",
        "a+b = 10+2 = 12\n",
        "\n",
        "a*b = 10 * 2 = 20"
      ],
      "metadata": {
        "id": "6H_aoJFHq5Dh"
      }
    },
    {
      "cell_type": "code",
      "execution_count": 4,
      "metadata": {
        "colab": {
          "base_uri": "https://localhost:8080/"
        },
        "id": "mJYO26SikoqS",
        "outputId": "5c1d497a-1d12-41dd-9688-023b919a95fa"
      },
      "outputs": [
        {
          "output_type": "stream",
          "name": "stdout",
          "text": [
            "Addition of a and b is\n",
            "12\n",
            "Multiplication of a and b is\n",
            "20\n"
          ]
        }
      ],
      "source": [
        "a=10\n",
        "b=2\n",
        "Add = a+b\n",
        "mul = a*b\n",
        "print('Addition of a and b is')\n",
        "print(Add)\n",
        "print('Multiplication of a and b is')\n",
        "print(mul)"
      ]
    },
    {
      "cell_type": "code",
      "source": [
        "minutes= 380\n",
        "hrs= int(minutes/60)\n",
        "remaining = minutes % 60\n",
        "print(\"Hours for 380 minutes will be\")\n",
        "print(hrs)\n",
        "print(\"Remaing minutes will be\")\n",
        "print(remaining)\n"
      ],
      "metadata": {
        "colab": {
          "base_uri": "https://localhost:8080/"
        },
        "id": "7Vu1kHy1tLLS",
        "outputId": "332db09a-101a-4e1a-a614-422fea38e17c"
      },
      "execution_count": 7,
      "outputs": [
        {
          "output_type": "stream",
          "name": "stdout",
          "text": [
            "Hours for 380 minutes will be\n",
            "6\n",
            "Remaing minutes will be\n",
            "20\n"
          ]
        }
      ]
    },
    {
      "cell_type": "markdown",
      "source": [
        "Some Objectives are\n",
        "1. Learn how to build robust, sustainable data pipelines\n",
        "2. Deepen your knowledge of deep learning models.\n",
        "3. Get up to speed on the latest research in NLG (natural language generation).\n",
        "4. Get better at your current role.\n",
        "5. Discover new ways to do good with data\n",
        "6. Explore a new algorithm.\n",
        "7. Get your hands dirty with a well-known dataset.\n",
        "8. Reflect on your next career move."
      ],
      "metadata": {
        "id": "TfSiDP87u_GQ"
      }
    },
    {
      "cell_type": "markdown",
      "source": [
        "How to indicate author's name:\n",
        "\n",
        "Always list the author's surname before listing his or her initials. You only need to provide initials for the first and middle names, but do include initials for all middle names provided by the source. Include a comma after every last name and in-between different authors' names.\n",
        "In this case i created this notebook so author's name will be Chaudhari Gaurav\n"
      ],
      "metadata": {
        "id": "pRc8Ip4Sws-a"
      }
    },
    {
      "cell_type": "code",
      "source": [],
      "metadata": {
        "id": "BoXacnc1u-ZS"
      },
      "execution_count": null,
      "outputs": []
    }
  ]
}